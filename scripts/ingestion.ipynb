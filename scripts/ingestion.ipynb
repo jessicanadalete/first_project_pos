{
 "cells": [
  {
   "cell_type": "code",
   "execution_count": 1,
   "id": "a8071420",
   "metadata": {},
   "outputs": [],
   "source": [
    "import duckdb\n",
    "import pandas as pd\n",
    "import os\n",
    "from datetime import datetime"
   ]
  },
  {
   "cell_type": "code",
   "execution_count": 2,
   "id": "cae33026",
   "metadata": {},
   "outputs": [],
   "source": [
    "conn = duckdb.connect(database='data_duckdb.db', read_only=False)"
   ]
  },
  {
   "cell_type": "code",
   "execution_count": 10,
   "id": "606903a9",
   "metadata": {},
   "outputs": [],
   "source": [
    "# Loading data\n",
    "\n",
    "\n",
    "data_ingestion = datetime.now()\n",
    "\n",
    "df = pd.read_csv('C:/Users/JéssicaNadalete/Desktop/Pessoal/Estudos/Data Engineering/Pós/2 Module/Repos/first_project_pos/landing/z0019_2.csv', sep=';')"
   ]
  },
  {
   "cell_type": "code",
   "execution_count": 11,
   "id": "213f80a2",
   "metadata": {},
   "outputs": [],
   "source": [
    "# Adding control columns\n",
    "file = 'z0019_2.csv'\n",
    "df['name_file'] = file\n",
    "df['date_ingestion'] = data_ingestion"
   ]
  },
  {
   "cell_type": "code",
   "execution_count": 12,
   "id": "fbb055aa",
   "metadata": {},
   "outputs": [
    {
     "data": {
      "text/html": [
       "<div>\n",
       "<style scoped>\n",
       "    .dataframe tbody tr th:only-of-type {\n",
       "        vertical-align: middle;\n",
       "    }\n",
       "\n",
       "    .dataframe tbody tr th {\n",
       "        vertical-align: top;\n",
       "    }\n",
       "\n",
       "    .dataframe thead th {\n",
       "        text-align: right;\n",
       "    }\n",
       "</style>\n",
       "<table border=\"1\" class=\"dataframe\">\n",
       "  <thead>\n",
       "    <tr style=\"text-align: right;\">\n",
       "      <th></th>\n",
       "      <th>NATBR</th>\n",
       "      <th>MAKTX</th>\n",
       "      <th>WERKS</th>\n",
       "      <th>MAINS</th>\n",
       "      <th>LABST</th>\n",
       "      <th>name_file</th>\n",
       "      <th>date_ingestion</th>\n",
       "    </tr>\n",
       "  </thead>\n",
       "  <tbody>\n",
       "    <tr>\n",
       "      <th>0</th>\n",
       "      <td>10004</td>\n",
       "      <td>SERRA</td>\n",
       "      <td>BT50</td>\n",
       "      <td>100</td>\n",
       "      <td>200</td>\n",
       "      <td>z0019_2.csv</td>\n",
       "      <td>2025-04-20 09:21:33.421997</td>\n",
       "    </tr>\n",
       "    <tr>\n",
       "      <th>1</th>\n",
       "      <td>10005</td>\n",
       "      <td>MACHADO</td>\n",
       "      <td>BT50</td>\n",
       "      <td>100</td>\n",
       "      <td>100</td>\n",
       "      <td>z0019_2.csv</td>\n",
       "      <td>2025-04-20 09:21:33.421997</td>\n",
       "    </tr>\n",
       "    <tr>\n",
       "      <th>2</th>\n",
       "      <td>10006</td>\n",
       "      <td>PREGO</td>\n",
       "      <td>BT10</td>\n",
       "      <td>100</td>\n",
       "      <td>60</td>\n",
       "      <td>z0019_2.csv</td>\n",
       "      <td>2025-04-20 09:21:33.421997</td>\n",
       "    </tr>\n",
       "  </tbody>\n",
       "</table>\n",
       "</div>"
      ],
      "text/plain": [
       "   NATBR    MAKTX WERKS  MAINS  LABST    name_file             date_ingestion\n",
       "0  10004    SERRA  BT50    100    200  z0019_2.csv 2025-04-20 09:21:33.421997\n",
       "1  10005  MACHADO  BT50    100    100  z0019_2.csv 2025-04-20 09:21:33.421997\n",
       "2  10006    PREGO  BT10    100     60  z0019_2.csv 2025-04-20 09:21:33.421997"
      ]
     },
     "execution_count": 12,
     "metadata": {},
     "output_type": "execute_result"
    }
   ],
   "source": [
    "df"
   ]
  },
  {
   "cell_type": "code",
   "execution_count": null,
   "id": "17f04da4",
   "metadata": {},
   "outputs": [
    {
     "data": {
      "text/plain": [
       "<duckdb.duckdb.DuckDBPyConnection at 0x1e848902af0>"
      ]
     },
     "execution_count": 30,
     "metadata": {},
     "output_type": "execute_result"
    }
   ],
   "source": [
    "#conn.execute(\"DROP TABLE IF EXISTS bronze_products\")"
   ]
  },
  {
   "cell_type": "code",
   "execution_count": 7,
   "id": "62ec31b1",
   "metadata": {},
   "outputs": [
    {
     "data": {
      "text/plain": [
       "<duckdb.duckdb.DuckDBPyConnection at 0x246a8d93c30>"
      ]
     },
     "execution_count": 7,
     "metadata": {},
     "output_type": "execute_result"
    }
   ],
   "source": [
    "conn.execute(\"\"\"\n",
    "CREATE TABLE IF NOT EXISTS bronze_products(\n",
    "             NATBR VARCHAR,\n",
    "             MAKTX VARCHAR,\n",
    "             WERKS VARCHAR,\n",
    "             MAINS VARCHAR,\n",
    "             LABST VARCHAR,\n",
    "             name_file VARCHAR,\n",
    "             date_ingestion TIMESTAMP)\n",
    "             \"\"\")"
   ]
  },
  {
   "cell_type": "code",
   "execution_count": 13,
   "id": "0a393051",
   "metadata": {},
   "outputs": [
    {
     "data": {
      "text/plain": [
       "<duckdb.duckdb.DuckDBPyConnection at 0x246a8d93c30>"
      ]
     },
     "execution_count": 13,
     "metadata": {},
     "output_type": "execute_result"
    }
   ],
   "source": [
    "conn.execute(\"INSERT INTO bronze_products SELECT * FROM df\")"
   ]
  },
  {
   "cell_type": "code",
   "execution_count": 14,
   "id": "43316328",
   "metadata": {},
   "outputs": [
    {
     "data": {
      "text/html": [
       "<div>\n",
       "<style scoped>\n",
       "    .dataframe tbody tr th:only-of-type {\n",
       "        vertical-align: middle;\n",
       "    }\n",
       "\n",
       "    .dataframe tbody tr th {\n",
       "        vertical-align: top;\n",
       "    }\n",
       "\n",
       "    .dataframe thead th {\n",
       "        text-align: right;\n",
       "    }\n",
       "</style>\n",
       "<table border=\"1\" class=\"dataframe\">\n",
       "  <thead>\n",
       "    <tr style=\"text-align: right;\">\n",
       "      <th></th>\n",
       "      <th>NATBR</th>\n",
       "      <th>MAKTX</th>\n",
       "      <th>WERKS</th>\n",
       "      <th>MAINS</th>\n",
       "      <th>LABST</th>\n",
       "      <th>name_file</th>\n",
       "      <th>date_ingestion</th>\n",
       "    </tr>\n",
       "  </thead>\n",
       "  <tbody>\n",
       "    <tr>\n",
       "      <th>0</th>\n",
       "      <td>10001</td>\n",
       "      <td>PARAFUSO</td>\n",
       "      <td>BT10</td>\n",
       "      <td>100</td>\n",
       "      <td>100</td>\n",
       "      <td>z0019_1.csv</td>\n",
       "      <td>2025-04-20 09:20:09.654996</td>\n",
       "    </tr>\n",
       "    <tr>\n",
       "      <th>1</th>\n",
       "      <td>10002</td>\n",
       "      <td>MARTELO</td>\n",
       "      <td>BT50</td>\n",
       "      <td>100</td>\n",
       "      <td>1500</td>\n",
       "      <td>z0019_1.csv</td>\n",
       "      <td>2025-04-20 09:20:09.654996</td>\n",
       "    </tr>\n",
       "    <tr>\n",
       "      <th>2</th>\n",
       "      <td>10003</td>\n",
       "      <td>PREGO</td>\n",
       "      <td>BT10</td>\n",
       "      <td>100</td>\n",
       "      <td>50</td>\n",
       "      <td>z0019_1.csv</td>\n",
       "      <td>2025-04-20 09:20:09.654996</td>\n",
       "    </tr>\n",
       "    <tr>\n",
       "      <th>3</th>\n",
       "      <td>10004</td>\n",
       "      <td>SERRA</td>\n",
       "      <td>BT50</td>\n",
       "      <td>100</td>\n",
       "      <td>200</td>\n",
       "      <td>z0019_2.csv</td>\n",
       "      <td>2025-04-20 09:21:33.421997</td>\n",
       "    </tr>\n",
       "    <tr>\n",
       "      <th>4</th>\n",
       "      <td>10005</td>\n",
       "      <td>MACHADO</td>\n",
       "      <td>BT50</td>\n",
       "      <td>100</td>\n",
       "      <td>100</td>\n",
       "      <td>z0019_2.csv</td>\n",
       "      <td>2025-04-20 09:21:33.421997</td>\n",
       "    </tr>\n",
       "  </tbody>\n",
       "</table>\n",
       "</div>"
      ],
      "text/plain": [
       "   NATBR     MAKTX WERKS MAINS LABST    name_file             date_ingestion\n",
       "0  10001  PARAFUSO  BT10   100   100  z0019_1.csv 2025-04-20 09:20:09.654996\n",
       "1  10002   MARTELO  BT50   100  1500  z0019_1.csv 2025-04-20 09:20:09.654996\n",
       "2  10003     PREGO  BT10   100    50  z0019_1.csv 2025-04-20 09:20:09.654996\n",
       "3  10004     SERRA  BT50   100   200  z0019_2.csv 2025-04-20 09:21:33.421997\n",
       "4  10005   MACHADO  BT50   100   100  z0019_2.csv 2025-04-20 09:21:33.421997"
      ]
     },
     "execution_count": 14,
     "metadata": {},
     "output_type": "execute_result"
    }
   ],
   "source": [
    "result = conn.execute(\"SELECT * FROM bronze_products\"). fetchdf()\n",
    "result.head()"
   ]
  },
  {
   "cell_type": "code",
   "execution_count": 15,
   "id": "172d567e",
   "metadata": {},
   "outputs": [
    {
     "data": {
      "text/plain": [
       "<duckdb.duckdb.DuckDBPyConnection at 0x246a8d93c30>"
      ]
     },
     "execution_count": 15,
     "metadata": {},
     "output_type": "execute_result"
    }
   ],
   "source": [
    "conn.execute(\"ALTER TABLE bronze_products RENAME TO bronze_z0019\")"
   ]
  },
  {
   "cell_type": "code",
   "execution_count": 16,
   "id": "dc7ae75c",
   "metadata": {},
   "outputs": [],
   "source": [
    "conn.close()"
   ]
  }
 ],
 "metadata": {
  "kernelspec": {
   "display_name": "Python 3",
   "language": "python",
   "name": "python3"
  },
  "language_info": {
   "codemirror_mode": {
    "name": "ipython",
    "version": 3
   },
   "file_extension": ".py",
   "mimetype": "text/x-python",
   "name": "python",
   "nbconvert_exporter": "python",
   "pygments_lexer": "ipython3",
   "version": "3.11.9"
  }
 },
 "nbformat": 4,
 "nbformat_minor": 5
}
